{
 "cells": [
  {
   "cell_type": "code",
   "execution_count": null,
   "id": "3d685985-a71f-42c5-a5a9-125e4d7fc293",
   "metadata": {},
   "outputs": [],
   "source": [
    "1. Is the Python Standard Library included with PyInputPlus?"
   ]
  },
  {
   "cell_type": "code",
   "execution_count": null,
   "id": "c1603003-92f4-4a65-94d8-a11441d4f320",
   "metadata": {},
   "outputs": [],
   "source": [
    "Ans. PyInputPlus is not a part of the Python Standard Library, so you must install it separately using Pip"
   ]
  },
  {
   "cell_type": "code",
   "execution_count": 1,
   "id": "1facc05b-e572-4d19-8c8e-0d02b6d457cd",
   "metadata": {},
   "outputs": [
    {
     "name": "stdout",
     "output_type": "stream",
     "text": [
      "Collecting pyinputplus\n",
      "  Downloading PyInputPlus-0.2.12.tar.gz (20 kB)\n",
      "  Installing build dependencies ... \u001b[?25ldone\n",
      "\u001b[?25h  Getting requirements to build wheel ... \u001b[?25ldone\n",
      "\u001b[?25h  Preparing metadata (pyproject.toml) ... \u001b[?25ldone\n",
      "\u001b[?25hCollecting stdiomask>=0.0.3\n",
      "  Downloading stdiomask-0.0.6.tar.gz (3.6 kB)\n",
      "  Installing build dependencies ... \u001b[?25ldone\n",
      "\u001b[?25h  Getting requirements to build wheel ... \u001b[?25ldone\n",
      "\u001b[?25h  Preparing metadata (pyproject.toml) ... \u001b[?25ldone\n",
      "\u001b[?25hCollecting pysimplevalidate>=0.2.7\n",
      "  Downloading PySimpleValidate-0.2.12.tar.gz (22 kB)\n",
      "  Installing build dependencies ... \u001b[?25ldone\n",
      "\u001b[?25h  Getting requirements to build wheel ... \u001b[?25ldone\n",
      "\u001b[?25h  Preparing metadata (pyproject.toml) ... \u001b[?25ldone\n",
      "\u001b[?25hBuilding wheels for collected packages: pyinputplus, pysimplevalidate, stdiomask\n",
      "  Building wheel for pyinputplus (pyproject.toml) ... \u001b[?25ldone\n",
      "\u001b[?25h  Created wheel for pyinputplus: filename=PyInputPlus-0.2.12-py3-none-any.whl size=11295 sha256=6de2e5b6ceb2c96371f64d0d81a7111900f14959d7911291defec7198253fac4\n",
      "  Stored in directory: /home/jovyan/.cache/pip/wheels/2d/72/d9/818396cecb072b3d697a47b007d9bbad74859a83a635e47d4d\n",
      "  Building wheel for pysimplevalidate (pyproject.toml) ... \u001b[?25ldone\n",
      "\u001b[?25h  Created wheel for pysimplevalidate: filename=PySimpleValidate-0.2.12-py3-none-any.whl size=16177 sha256=8ec7bbf84291448262552e32dc6772a97c6dcacabaec31aaea7cfcbce3e753d1\n",
      "  Stored in directory: /home/jovyan/.cache/pip/wheels/05/ad/4d/7289d8b9a519e88167728584876a1a1073a3f71666d875aba7\n",
      "  Building wheel for stdiomask (pyproject.toml) ... \u001b[?25ldone\n",
      "\u001b[?25h  Created wheel for stdiomask: filename=stdiomask-0.0.6-py3-none-any.whl size=3306 sha256=c75ea95c87a5fb53f32135542d540dc046632209cc73beb8f3ddf24391515f6a\n",
      "  Stored in directory: /home/jovyan/.cache/pip/wheels/41/ee/55/6e4b70f6248b280caae3d938bc543206bb1a75988b739f1238\n",
      "Successfully built pyinputplus pysimplevalidate stdiomask\n",
      "Installing collected packages: stdiomask, pysimplevalidate, pyinputplus\n",
      "Successfully installed pyinputplus-0.2.12 pysimplevalidate-0.2.12 stdiomask-0.0.6\n"
     ]
    }
   ],
   "source": [
    "\n",
    "!pip install pyinputplus\n",
    "\n",
    "     "
   ]
  },
  {
   "cell_type": "code",
   "execution_count": null,
   "id": "6312915d-a008-4625-9e34-460e8c36c904",
   "metadata": {},
   "outputs": [],
   "source": [
    "2. Why is PyInputPlus commonly imported with import pyinputplus as pypi?"
   ]
  },
  {
   "cell_type": "code",
   "execution_count": null,
   "id": "1df2947e-636f-48cd-84c1-c6620393bc8d",
   "metadata": {},
   "outputs": [],
   "source": [
    "Ans. pypi is alias of PyInputPlus.\n",
    "The as pyip code in the import statement saves us from typing pyinputplus each time we want to call a PyInputPlus function. Instead we can use the shorter pyip name"
   ]
  },
  {
   "cell_type": "code",
   "execution_count": null,
   "id": "4a95a9a6-213d-4f75-ac07-5ae95e0a4a40",
   "metadata": {},
   "outputs": [],
   "source": [
    "3. How do you distinguish between inputInt() and inputFloat()?"
   ]
  },
  {
   "cell_type": "code",
   "execution_count": null,
   "id": "2e9f5bda-41ff-4440-99f5-d1a726eda014",
   "metadata": {},
   "outputs": [],
   "source": [
    "ns. inputInt() : Accepts an integer value, and returns int value\n",
    "inputFloat() : Accepts integer/floating point value and returns float value"
   ]
  },
  {
   "cell_type": "code",
   "execution_count": null,
   "id": "8cb6db24-21da-4cd1-b071-6d82f2934f08",
   "metadata": {},
   "outputs": [],
   "source": [
    "import pyinputplus as pyip\n",
    "pyip.inputInt()\n",
    "pyip.inputFloat()\n"
   ]
  },
  {
   "cell_type": "code",
   "execution_count": null,
   "id": "2242e99d-db12-4dea-916f-aadf54926559",
   "metadata": {},
   "outputs": [],
   "source": [
    "7.8\n",
    "'7.8' is not an integer.\n",
    "7\n",
    "9"
   ]
  },
  {
   "cell_type": "code",
   "execution_count": null,
   "id": "6d54d413-9ebc-429c-9ff7-9a4116fbd67b",
   "metadata": {},
   "outputs": [],
   "source": [
    "9.0"
   ]
  },
  {
   "cell_type": "code",
   "execution_count": null,
   "id": "c1754d21-3970-4d0f-a6b7-62d0a3ae60ae",
   "metadata": {},
   "outputs": [],
   "source": [
    "4. Using PyInputPlus, how do you ensure that the user enters a whole number between 0 and 99?"
   ]
  },
  {
   "cell_type": "code",
   "execution_count": null,
   "id": "707f7e39-2430-40f0-890f-e6fe1f292858",
   "metadata": {},
   "outputs": [],
   "source": [
    "Ans. In the inputint function we can set the min = 0 and max =99 to ensure user enters number between 0 and 99"
   ]
  },
  {
   "cell_type": "code",
   "execution_count": null,
   "id": "5cdd1c6a-cd11-4136-8cc9-5e84bd87e520",
   "metadata": {},
   "outputs": [],
   "source": [
    "pyip.inputInt(min = 0, max =99)"
   ]
  },
  {
   "cell_type": "code",
   "execution_count": null,
   "id": "5deb544a-35bb-45d3-a6f6-910630f91452",
   "metadata": {},
   "outputs": [],
   "source": [
    "777\n",
    "Number must be at maximum 99.\n",
    "66"
   ]
  },
  {
   "cell_type": "code",
   "execution_count": null,
   "id": "4b5a16a6-78d6-4149-a9f2-0a82d9d5daac",
   "metadata": {},
   "outputs": [],
   "source": [
    "66"
   ]
  },
  {
   "cell_type": "code",
   "execution_count": null,
   "id": "6b0ed82f-78c9-4ce2-aa37-b4f823560072",
   "metadata": {},
   "outputs": [],
   "source": [
    "5. What is transferred to the keyword arguments allowRegexes and blockRegexes?"
   ]
  },
  {
   "cell_type": "code",
   "execution_count": null,
   "id": "f6ec75c3-9f56-4728-95ed-168bea0997ed",
   "metadata": {},
   "outputs": [],
   "source": [
    "Ans. We can also use regular expressions to specify whether an input is allowed or not. The allowRegexes and blockRegexes\n",
    "keyword arguments take a list of regular expression strings to determine what the PyInputPlus function will accept or reject as valid input."
   ]
  },
  {
   "cell_type": "code",
   "execution_count": null,
   "id": "6b22c55b-072f-465d-97a7-a063cc048af2",
   "metadata": {},
   "outputs": [],
   "source": [
    "response = pyip.inputNum(allowRegexes=[r'(I|V|X|L|C|D|M)+', r'zero']) # it allowes roman letters as numbers too\n"
   ]
  },
  {
   "cell_type": "code",
   "execution_count": null,
   "id": "6c2b5c4d-83e0-40b5-be54-d77dc8076f98",
   "metadata": {},
   "outputs": [],
   "source": [
    "X\n"
   ]
  },
  {
   "cell_type": "code",
   "execution_count": null,
   "id": "9e4f92d0-1489-4078-8403-3e74283e0009",
   "metadata": {},
   "outputs": [],
   "source": [
    "response = pyip.inputNum(blockRegexes=[r'[02468]$'])# blocks the even numbers\n"
   ]
  },
  {
   "cell_type": "code",
   "execution_count": null,
   "id": "bc7d611f-5c58-4ec2-a0c8-c631726bfed4",
   "metadata": {},
   "outputs": [],
   "source": [
    "2\n",
    "This response is invalid.\n",
    "4\n",
    "This response is invalid.\n",
    "6\n",
    "This response is invalid.\n",
    "45"
   ]
  },
  {
   "cell_type": "code",
   "execution_count": null,
   "id": "476cf001-e94d-44fb-a471-41c3d6f7c693",
   "metadata": {},
   "outputs": [],
   "source": [
    "6. If a blank input is entered three times, what does inputStr(limit=3) do?"
   ]
  },
  {
   "cell_type": "code",
   "execution_count": null,
   "id": "1b2424c5-d493-4e35-8a18-6e1eebd319d5",
   "metadata": {},
   "outputs": [],
   "source": [
    "Ans. It will throw RetryLimitException exception."
   ]
  },
  {
   "cell_type": "code",
   "execution_count": null,
   "id": "1b727bd9-8337-463c-b52b-b5059381c321",
   "metadata": {},
   "outputs": [],
   "source": [
    "response = pyip.inputStr(limit=3)\n",
    "\n",
    "     "
   ]
  },
  {
   "cell_type": "code",
   "execution_count": null,
   "id": "08d6a6fb-0c8c-42de-bff7-2621ee596c04",
   "metadata": {},
   "outputs": [],
   "source": [
    "Blank values are not allowed.\n",
    "\n",
    "Blank values are not allowed.\n",
    "\n",
    "Blank values are not allowed."
   ]
  },
  {
   "cell_type": "code",
   "execution_count": null,
   "id": "be59da0b-223a-4b82-87f8-5744cc3b27d9",
   "metadata": {},
   "outputs": [],
   "source": [
    "7. If blank input is entered three times, what does inputStr(limit=3, default=&#39;hello&#39;) do?"
   ]
  },
  {
   "cell_type": "code",
   "execution_count": null,
   "id": "437c5a70-ae23-4ac3-acab-b0dd827b2f2d",
   "metadata": {},
   "outputs": [],
   "source": [
    "7. If blank input is entered three times, what does inputStr(limit=3, default=&#39;hello&#39;) do?"
   ]
  },
  {
   "cell_type": "code",
   "execution_count": null,
   "id": "df056359-ea40-4466-81cd-9ea605274ac3",
   "metadata": {},
   "outputs": [],
   "source": [
    "\n",
    "\n",
    "response = pyip.inputStr(limit=3,default='hello')\n",
    "response\n",
    "     \n"
   ]
  },
  {
   "cell_type": "code",
   "execution_count": null,
   "id": "1151f99d-25ee-42d8-80fa-20475ada0f38",
   "metadata": {},
   "outputs": [],
   "source": [
    "Blank values are not allowed.\n",
    "\n",
    "Blank values are not allowed.\n",
    "\n",
    "Blank values are not allowed.\n",
    "'hello'"
   ]
  }
 ],
 "metadata": {
  "kernelspec": {
   "display_name": "Python 3 (ipykernel)",
   "language": "python",
   "name": "python3"
  },
  "language_info": {
   "codemirror_mode": {
    "name": "ipython",
    "version": 3
   },
   "file_extension": ".py",
   "mimetype": "text/x-python",
   "name": "python",
   "nbconvert_exporter": "python",
   "pygments_lexer": "ipython3",
   "version": "3.10.6"
  }
 },
 "nbformat": 4,
 "nbformat_minor": 5
}
